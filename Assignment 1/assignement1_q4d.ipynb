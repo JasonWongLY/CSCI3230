{
 "cells": [
  {
   "cell_type": "code",
   "execution_count": 5,
   "metadata": {},
   "outputs": [],
   "source": [
    "import numpy as np\n",
    "import math"
   ]
  },
  {
   "cell_type": "code",
   "execution_count": 6,
   "metadata": {},
   "outputs": [],
   "source": [
    "def ei(x1,x2,y):\n",
    "    return -y*math.log(1/(1+math.exp(-(q0+q1*x1+q2*x2))))-(1-y)*(1-math.log(1/(1+math.exp(-(q0+q1*x1+q2*x2)))))"
   ]
  },
  {
   "cell_type": "code",
   "execution_count": 7,
   "metadata": {},
   "outputs": [],
   "source": [
    "data=np.array([[0.315,0.761,0],[0.129,0.413,0],[0.358,0.752,0],[0.611,0.855,1],[0.765,0.782,1],[0.613,0.967,1]])"
   ]
  },
  {
   "cell_type": "code",
   "execution_count": 23,
   "metadata": {},
   "outputs": [],
   "source": [
    "q0=-2.51446\n",
    "q1=5.99832\n",
    "q2=-0.52165"
   ]
  },
  {
   "cell_type": "code",
   "execution_count": 10,
   "metadata": {},
   "outputs": [
    {
     "data": {
      "text/plain": [
       "-7.71175588065233"
      ]
     },
     "execution_count": 10,
     "metadata": {},
     "output_type": "execute_result"
    }
   ],
   "source": [
    "total=0\n",
    "for i in data:\n",
    "    total+=ei(i[0],i[1],i[2])\n",
    "total"
   ]
  },
  {
   "cell_type": "code",
   "execution_count": 1,
   "metadata": {},
   "outputs": [],
   "source": [
    "def fq(x1,x2):\n",
    "    return q0+x1*q1+x2*q2"
   ]
  },
  {
   "cell_type": "code",
   "execution_count": 2,
   "metadata": {},
   "outputs": [],
   "source": [
    "def logistic(value):\n",
    "    return 1/(1+math.exp(-value))"
   ]
  },
  {
   "cell_type": "code",
   "execution_count": 11,
   "metadata": {},
   "outputs": [],
   "source": [
    "def ei(x1,x2,y):\n",
    "    return -(y*math.log(logistic(fq(x1,x2)))+(1-y)*(math.log(1-logistic(fq(x1,x2)))))"
   ]
  },
  {
   "cell_type": "code",
   "execution_count": 24,
   "metadata": {},
   "outputs": [
    {
     "data": {
      "text/plain": [
       "1.8155958321969101"
      ]
     },
     "execution_count": 24,
     "metadata": {},
     "output_type": "execute_result"
    }
   ],
   "source": [
    "total=0\n",
    "for i in data:\n",
    "    total +=ei(i[0],i[1],i[2])\n",
    "total"
   ]
  },
  {
   "cell_type": "code",
   "execution_count": null,
   "metadata": {},
   "outputs": [],
   "source": []
  }
 ],
 "metadata": {
  "kernelspec": {
   "display_name": "Python 3.9.7 64-bit",
   "language": "python",
   "name": "python3"
  },
  "language_info": {
   "codemirror_mode": {
    "name": "ipython",
    "version": 3
   },
   "file_extension": ".py",
   "mimetype": "text/x-python",
   "name": "python",
   "nbconvert_exporter": "python",
   "pygments_lexer": "ipython3",
   "version": "3.9.7"
  },
  "orig_nbformat": 4,
  "vscode": {
   "interpreter": {
    "hash": "5b504ef4dd476d902adde0dd6a370889f5aa6341c1210a26a57a3a565c0f5fa3"
   }
  }
 },
 "nbformat": 4,
 "nbformat_minor": 2
}
