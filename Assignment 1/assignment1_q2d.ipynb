{
 "cells": [
  {
   "cell_type": "code",
   "execution_count": 1,
   "metadata": {},
   "outputs": [],
   "source": [
    "import numpy as np\n",
    "import math\n",
    "import pandas as pd"
   ]
  },
  {
   "cell_type": "code",
   "execution_count": 22,
   "metadata": {},
   "outputs": [
    {
     "data": {
      "text/html": [
       "<div>\n",
       "<style scoped>\n",
       "    .dataframe tbody tr th:only-of-type {\n",
       "        vertical-align: middle;\n",
       "    }\n",
       "\n",
       "    .dataframe tbody tr th {\n",
       "        vertical-align: top;\n",
       "    }\n",
       "\n",
       "    .dataframe thead th {\n",
       "        text-align: right;\n",
       "    }\n",
       "</style>\n",
       "<table border=\"1\" class=\"dataframe\">\n",
       "  <thead>\n",
       "    <tr style=\"text-align: right;\">\n",
       "      <th></th>\n",
       "      <th>Unnamed: 0</th>\n",
       "      <th>x</th>\n",
       "      <th>x^2</th>\n",
       "      <th>x^3</th>\n",
       "      <th>x^4</th>\n",
       "    </tr>\n",
       "  </thead>\n",
       "  <tbody>\n",
       "    <tr>\n",
       "      <th>0</th>\n",
       "      <td>1</td>\n",
       "      <td>5.84</td>\n",
       "      <td>34.1056</td>\n",
       "      <td>199.176704</td>\n",
       "      <td>1163.191951</td>\n",
       "    </tr>\n",
       "    <tr>\n",
       "      <th>1</th>\n",
       "      <td>1</td>\n",
       "      <td>0.61</td>\n",
       "      <td>0.3721</td>\n",
       "      <td>0.226981</td>\n",
       "      <td>0.138458</td>\n",
       "    </tr>\n",
       "    <tr>\n",
       "      <th>2</th>\n",
       "      <td>1</td>\n",
       "      <td>4.23</td>\n",
       "      <td>17.8929</td>\n",
       "      <td>75.686967</td>\n",
       "      <td>320.155870</td>\n",
       "    </tr>\n",
       "    <tr>\n",
       "      <th>3</th>\n",
       "      <td>1</td>\n",
       "      <td>6.50</td>\n",
       "      <td>42.2500</td>\n",
       "      <td>274.625000</td>\n",
       "      <td>1785.062500</td>\n",
       "    </tr>\n",
       "    <tr>\n",
       "      <th>4</th>\n",
       "      <td>1</td>\n",
       "      <td>0.89</td>\n",
       "      <td>0.7921</td>\n",
       "      <td>0.704969</td>\n",
       "      <td>0.627422</td>\n",
       "    </tr>\n",
       "    <tr>\n",
       "      <th>5</th>\n",
       "      <td>1</td>\n",
       "      <td>3.75</td>\n",
       "      <td>14.0625</td>\n",
       "      <td>52.734375</td>\n",
       "      <td>197.753906</td>\n",
       "    </tr>\n",
       "    <tr>\n",
       "      <th>6</th>\n",
       "      <td>1</td>\n",
       "      <td>5.73</td>\n",
       "      <td>32.8329</td>\n",
       "      <td>188.132517</td>\n",
       "      <td>1077.999322</td>\n",
       "    </tr>\n",
       "    <tr>\n",
       "      <th>7</th>\n",
       "      <td>1</td>\n",
       "      <td>3.10</td>\n",
       "      <td>9.6100</td>\n",
       "      <td>29.791000</td>\n",
       "      <td>92.352100</td>\n",
       "    </tr>\n",
       "    <tr>\n",
       "      <th>8</th>\n",
       "      <td>1</td>\n",
       "      <td>6.47</td>\n",
       "      <td>41.8609</td>\n",
       "      <td>270.840023</td>\n",
       "      <td>1752.334949</td>\n",
       "    </tr>\n",
       "    <tr>\n",
       "      <th>9</th>\n",
       "      <td>1</td>\n",
       "      <td>4.59</td>\n",
       "      <td>21.0681</td>\n",
       "      <td>96.702579</td>\n",
       "      <td>443.864838</td>\n",
       "    </tr>\n",
       "  </tbody>\n",
       "</table>\n",
       "</div>"
      ],
      "text/plain": [
       "   Unnamed: 0     x      x^2         x^3          x^4\n",
       "0           1  5.84  34.1056  199.176704  1163.191951\n",
       "1           1  0.61   0.3721    0.226981     0.138458\n",
       "2           1  4.23  17.8929   75.686967   320.155870\n",
       "3           1  6.50  42.2500  274.625000  1785.062500\n",
       "4           1  0.89   0.7921    0.704969     0.627422\n",
       "5           1  3.75  14.0625   52.734375   197.753906\n",
       "6           1  5.73  32.8329  188.132517  1077.999322\n",
       "7           1  3.10   9.6100   29.791000    92.352100\n",
       "8           1  6.47  41.8609  270.840023  1752.334949\n",
       "9           1  4.59  21.0681   96.702579   443.864838"
      ]
     },
     "execution_count": 22,
     "metadata": {},
     "output_type": "execute_result"
    }
   ],
   "source": [
    "train=pd.read_csv('matrix.csv').to_numpy()\n",
    "df_1=pd.read_csv('matrix.csv')\n",
    "test=pd.read_csv('matrix2.csv').to_numpy()\n",
    "df=pd.read_csv('matrix2.csv')\n",
    "df"
   ]
  },
  {
   "cell_type": "code",
   "execution_count": 3,
   "metadata": {},
   "outputs": [
    {
     "data": {
      "text/plain": [
       "(10, 5)"
      ]
     },
     "execution_count": 3,
     "metadata": {},
     "output_type": "execute_result"
    }
   ],
   "source": [
    "train.shape\n",
    "test.shape"
   ]
  },
  {
   "cell_type": "code",
   "execution_count": 4,
   "metadata": {},
   "outputs": [],
   "source": [
    "def norm(x):\n",
    "    ans=0\n",
    "    for i in x:\n",
    "            ans+=math.pow(i,2)\n",
    "    return ans"
   ]
  },
  {
   "cell_type": "code",
   "execution_count": 35,
   "metadata": {},
   "outputs": [],
   "source": [
    "def cal(x,y,para):\n",
    "    return norm(x.T.dot(para)-y)"
   ]
  },
  {
   "cell_type": "code",
   "execution_count": 6,
   "metadata": {},
   "outputs": [],
   "source": [
    "y_test=np.array([0.89,1.79,-0.15,1.63,1.27,0.91,0.88,1.41,1.69,-0.46])\n",
    "y_train=np.array([0.81,1.22,0.43,-0.51,-0.13,0.44,1.49,0.31,1.59,1.61])"
   ]
  },
  {
   "cell_type": "code",
   "execution_count": 26,
   "metadata": {},
   "outputs": [],
   "source": [
    "para_4=[-1.90765685,4.81138824,-2.29185417,0.38599269,-0.02100545]\n",
    "para_2=[2.28532665,-1.0375317,0.12251943]\n",
    "para_1=[-0.08930311,0.15199536]"
   ]
  },
  {
   "cell_type": "code",
   "execution_count": 36,
   "metadata": {},
   "outputs": [
    {
     "data": {
      "text/plain": [
       "96.91043659216291"
      ]
     },
     "execution_count": 36,
     "metadata": {},
     "output_type": "execute_result"
    }
   ],
   "source": [
    "total=0\n",
    "for i in test:\n",
    "    total+=cal(i,y_test,para_4)\n",
    "total"
   ]
  },
  {
   "cell_type": "code",
   "execution_count": 20,
   "metadata": {},
   "outputs": [
    {
     "data": {
      "text/plain": [
       "array([[ 1.    ,  5.84  , 34.1056],\n",
       "       [ 1.    ,  0.61  ,  0.3721],\n",
       "       [ 1.    ,  4.23  , 17.8929],\n",
       "       [ 1.    ,  6.5   , 42.25  ],\n",
       "       [ 1.    ,  0.89  ,  0.7921],\n",
       "       [ 1.    ,  3.75  , 14.0625],\n",
       "       [ 1.    ,  5.73  , 32.8329],\n",
       "       [ 1.    ,  3.1   ,  9.61  ],\n",
       "       [ 1.    ,  6.47  , 41.8609],\n",
       "       [ 1.    ,  4.59  , 21.0681]])"
      ]
     },
     "execution_count": 20,
     "metadata": {},
     "output_type": "execute_result"
    }
   ],
   "source": [
    "\n",
    "x_2=df[[df.columns[0],df.columns[1],df.columns[2]]].to_numpy()\n",
    "x_2"
   ]
  },
  {
   "cell_type": "code",
   "execution_count": 21,
   "metadata": {},
   "outputs": [
    {
     "data": {
      "text/plain": [
       "97.18230054820535"
      ]
     },
     "execution_count": 21,
     "metadata": {},
     "output_type": "execute_result"
    }
   ],
   "source": [
    "total=0\n",
    "for i in x_2:\n",
    "    total+=cal(i,y_test,para_2)\n",
    "total"
   ]
  },
  {
   "cell_type": "code",
   "execution_count": 25,
   "metadata": {},
   "outputs": [
    {
     "data": {
      "text/plain": [
       "array([-0.08930311,  0.15199536])"
      ]
     },
     "execution_count": 25,
     "metadata": {},
     "output_type": "execute_result"
    }
   ],
   "source": [
    "temp=df_1[[df_1.columns[0],df_1.columns[1]]]\n",
    "np.linalg.inv(temp.T.dot(temp)).dot(temp.T.dot(y_train))"
   ]
  },
  {
   "cell_type": "code",
   "execution_count": 27,
   "metadata": {},
   "outputs": [
    {
     "data": {
      "text/plain": [
       "array([[1.  , 5.84],\n",
       "       [1.  , 0.61],\n",
       "       [1.  , 4.23],\n",
       "       [1.  , 6.5 ],\n",
       "       [1.  , 0.89],\n",
       "       [1.  , 3.75],\n",
       "       [1.  , 5.73],\n",
       "       [1.  , 3.1 ],\n",
       "       [1.  , 6.47],\n",
       "       [1.  , 4.59]])"
      ]
     },
     "execution_count": 27,
     "metadata": {},
     "output_type": "execute_result"
    }
   ],
   "source": [
    "x_1=df[[df.columns[0],df.columns[1]]].to_numpy()\n",
    "x_1"
   ]
  },
  {
   "cell_type": "code",
   "execution_count": 28,
   "metadata": {},
   "outputs": [
    {
     "data": {
      "text/plain": [
       "81.16876962038941"
      ]
     },
     "execution_count": 28,
     "metadata": {},
     "output_type": "execute_result"
    }
   ],
   "source": [
    "total=0\n",
    "for i in x_1:\n",
    "    total+=cal(i,y_test,para_1)\n",
    "total"
   ]
  },
  {
   "cell_type": "code",
   "execution_count": 37,
   "metadata": {},
   "outputs": [
    {
     "data": {
      "text/plain": [
       "array([ 2.28532665, -1.0375317 ,  0.12251943])"
      ]
     },
     "execution_count": 37,
     "metadata": {},
     "output_type": "execute_result"
    }
   ],
   "source": [
    "temp=df_1[[df_1.columns[0],df_1.columns[1],df_1.columns[2]]]\n",
    "np.linalg.inv(temp.T.dot(temp)).dot(temp.T).dot(y_train)"
   ]
  },
  {
   "cell_type": "code",
   "execution_count": 32,
   "metadata": {},
   "outputs": [
    {
     "data": {
      "text/plain": [
       "array([ 0.99543042,  0.76255503, -0.6770271 ,  0.13763658, -0.00796322])"
      ]
     },
     "execution_count": 32,
     "metadata": {},
     "output_type": "execute_result"
    }
   ],
   "source": [
    "para_ridge=np.array([ 0.99543042,  0.76255503, -0.6770271 ,  0.13763658, -0.00796322])\n",
    "para_ridge"
   ]
  },
  {
   "cell_type": "code",
   "execution_count": 33,
   "metadata": {},
   "outputs": [
    {
     "data": {
      "text/plain": [
       "array([[1.00000000e+00, 5.84000000e+00, 3.41056000e+01, 1.99176704e+02,\n",
       "        1.16319195e+03],\n",
       "       [1.00000000e+00, 6.10000000e-01, 3.72100000e-01, 2.26981000e-01,\n",
       "        1.38458410e-01],\n",
       "       [1.00000000e+00, 4.23000000e+00, 1.78929000e+01, 7.56869670e+01,\n",
       "        3.20155870e+02],\n",
       "       [1.00000000e+00, 6.50000000e+00, 4.22500000e+01, 2.74625000e+02,\n",
       "        1.78506250e+03],\n",
       "       [1.00000000e+00, 8.90000000e-01, 7.92100000e-01, 7.04969000e-01,\n",
       "        6.27422410e-01],\n",
       "       [1.00000000e+00, 3.75000000e+00, 1.40625000e+01, 5.27343750e+01,\n",
       "        1.97753906e+02],\n",
       "       [1.00000000e+00, 5.73000000e+00, 3.28329000e+01, 1.88132517e+02,\n",
       "        1.07799932e+03],\n",
       "       [1.00000000e+00, 3.10000000e+00, 9.61000000e+00, 2.97910000e+01,\n",
       "        9.23521000e+01],\n",
       "       [1.00000000e+00, 6.47000000e+00, 4.18609000e+01, 2.70840023e+02,\n",
       "        1.75233495e+03],\n",
       "       [1.00000000e+00, 4.59000000e+00, 2.10681000e+01, 9.67025790e+01,\n",
       "        4.43864838e+02]])"
      ]
     },
     "execution_count": 33,
     "metadata": {},
     "output_type": "execute_result"
    }
   ],
   "source": [
    "test\n"
   ]
  },
  {
   "cell_type": "code",
   "execution_count": 34,
   "metadata": {},
   "outputs": [
    {
     "data": {
      "text/plain": [
       "94.04093327514629"
      ]
     },
     "execution_count": 34,
     "metadata": {},
     "output_type": "execute_result"
    }
   ],
   "source": [
    "total=0\n",
    "for i in test:\n",
    "    total+=cal(i,y_test,para_ridge)\n",
    "\n",
    "total+=0.1*norm(para_ridge)\n",
    "total"
   ]
  },
  {
   "cell_type": "code",
   "execution_count": 38,
   "metadata": {},
   "outputs": [
    {
     "data": {
      "text/plain": [
       "0    5.84\n",
       "1    0.61\n",
       "2    4.23\n",
       "3    6.50\n",
       "4    0.89\n",
       "5    3.75\n",
       "6    5.73\n",
       "7    3.10\n",
       "8    6.47\n",
       "9    4.59\n",
       "Name: x, dtype: float64"
      ]
     },
     "execution_count": 38,
     "metadata": {},
     "output_type": "execute_result"
    }
   ],
   "source": [
    "test_plot=df[df.columns[1]]\n",
    "test_plot"
   ]
  },
  {
   "cell_type": "code",
   "execution_count": 39,
   "metadata": {},
   "outputs": [],
   "source": [
    "import matplotlib.pyplot as plt \n"
   ]
  },
  {
   "cell_type": "code",
   "execution_count": 40,
   "metadata": {},
   "outputs": [
    {
     "data": {
      "text/plain": [
       "array([[1.00000000e+00, 5.51000000e+00, 3.03601000e+01, 1.67284151e+02,\n",
       "        9.21735672e+02],\n",
       "       [1.00000000e+00, 1.25000000e+00, 1.56250000e+00, 1.95312500e+00,\n",
       "        2.44140625e+00],\n",
       "       [1.00000000e+00, 3.60000000e+00, 1.29600000e+01, 4.66560000e+01,\n",
       "        1.67961600e+02],\n",
       "       [1.00000000e+00, 4.72000000e+00, 2.22784000e+01, 1.05154048e+02,\n",
       "        4.96327107e+02],\n",
       "       [1.00000000e+00, 3.91000000e+00, 1.52881000e+01, 5.97764710e+01,\n",
       "        2.33726002e+02],\n",
       "       [1.00000000e+00, 6.13000000e+00, 3.75769000e+01, 2.30346397e+02,\n",
       "        1.41202341e+03],\n",
       "       [1.00000000e+00, 8.05000000e+00, 6.48025000e+01, 5.21660125e+02,\n",
       "        4.19936401e+03],\n",
       "       [1.00000000e+00, 5.55000000e+00, 3.08025000e+01, 1.70953875e+02,\n",
       "        9.48794006e+02],\n",
       "       [1.00000000e+00, 7.33000000e+00, 5.37289000e+01, 3.93832837e+02,\n",
       "        2.88679470e+03],\n",
       "       [1.00000000e+00, 7.59000000e+00, 5.76081000e+01, 4.37245479e+02,\n",
       "        3.31869319e+03]])"
      ]
     },
     "execution_count": 40,
     "metadata": {},
     "output_type": "execute_result"
    }
   ],
   "source": [
    "train\n"
   ]
  },
  {
   "cell_type": "code",
   "execution_count": 41,
   "metadata": {},
   "outputs": [
    {
     "data": {
      "text/plain": [
       "[-1.90765685, 4.81138824, -2.29185417, 0.38599269, -0.02100545]"
      ]
     },
     "execution_count": 41,
     "metadata": {},
     "output_type": "execute_result"
    }
   ],
   "source": [
    "para_4"
   ]
  },
  {
   "cell_type": "code",
   "execution_count": 42,
   "metadata": {},
   "outputs": [
    {
     "data": {
      "text/plain": [
       "92.58117287096593"
      ]
     },
     "execution_count": 42,
     "metadata": {},
     "output_type": "execute_result"
    }
   ],
   "source": [
    "total=0\n",
    "for i in train:\n",
    "    total+=cal(i,y_train,para_4)\n",
    "total"
   ]
  },
  {
   "cell_type": "code",
   "execution_count": null,
   "metadata": {},
   "outputs": [],
   "source": []
  }
 ],
 "metadata": {
  "kernelspec": {
   "display_name": "Python 3.9.7 64-bit",
   "language": "python",
   "name": "python3"
  },
  "language_info": {
   "codemirror_mode": {
    "name": "ipython",
    "version": 3
   },
   "file_extension": ".py",
   "mimetype": "text/x-python",
   "name": "python",
   "nbconvert_exporter": "python",
   "pygments_lexer": "ipython3",
   "version": "3.9.7"
  },
  "orig_nbformat": 4,
  "vscode": {
   "interpreter": {
    "hash": "5b504ef4dd476d902adde0dd6a370889f5aa6341c1210a26a57a3a565c0f5fa3"
   }
  }
 },
 "nbformat": 4,
 "nbformat_minor": 2
}
