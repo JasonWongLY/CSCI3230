{
 "cells": [
  {
   "cell_type": "code",
   "execution_count": 3,
   "metadata": {},
   "outputs": [],
   "source": [
    "import numpy as np\n",
    "import matplotlib.pyplot as plt\n",
    "import pandas as pd"
   ]
  },
  {
   "cell_type": "code",
   "execution_count": 5,
   "metadata": {},
   "outputs": [],
   "source": [
    "df=pd.read_csv('matrix2.csv')\n",
    "test=df.to_numpy()\n",
    "df_2=pd.read_csv('matrix.csv')\n",
    "train=df_2.to_numpy()"
   ]
  },
  {
   "cell_type": "code",
   "execution_count": 6,
   "metadata": {},
   "outputs": [
    {
     "data": {
      "text/plain": [
       "array([[1.00000000e+00, 5.84000000e+00, 3.41056000e+01, 1.99176704e+02,\n",
       "        1.16319195e+03],\n",
       "       [1.00000000e+00, 6.10000000e-01, 3.72100000e-01, 2.26981000e-01,\n",
       "        1.38458410e-01],\n",
       "       [1.00000000e+00, 4.23000000e+00, 1.78929000e+01, 7.56869670e+01,\n",
       "        3.20155870e+02],\n",
       "       [1.00000000e+00, 6.50000000e+00, 4.22500000e+01, 2.74625000e+02,\n",
       "        1.78506250e+03],\n",
       "       [1.00000000e+00, 8.90000000e-01, 7.92100000e-01, 7.04969000e-01,\n",
       "        6.27422410e-01],\n",
       "       [1.00000000e+00, 3.75000000e+00, 1.40625000e+01, 5.27343750e+01,\n",
       "        1.97753906e+02],\n",
       "       [1.00000000e+00, 5.73000000e+00, 3.28329000e+01, 1.88132517e+02,\n",
       "        1.07799932e+03],\n",
       "       [1.00000000e+00, 3.10000000e+00, 9.61000000e+00, 2.97910000e+01,\n",
       "        9.23521000e+01],\n",
       "       [1.00000000e+00, 6.47000000e+00, 4.18609000e+01, 2.70840023e+02,\n",
       "        1.75233495e+03],\n",
       "       [1.00000000e+00, 4.59000000e+00, 2.10681000e+01, 9.67025790e+01,\n",
       "        4.43864838e+02]])"
      ]
     },
     "execution_count": 6,
     "metadata": {},
     "output_type": "execute_result"
    }
   ],
   "source": [
    "test"
   ]
  },
  {
   "cell_type": "code",
   "execution_count": 7,
   "metadata": {},
   "outputs": [
    {
     "data": {
      "text/plain": [
       "array([[1.00000000e+00, 5.51000000e+00, 3.03601000e+01, 1.67284151e+02,\n",
       "        9.21735672e+02],\n",
       "       [1.00000000e+00, 1.25000000e+00, 1.56250000e+00, 1.95312500e+00,\n",
       "        2.44140625e+00],\n",
       "       [1.00000000e+00, 3.60000000e+00, 1.29600000e+01, 4.66560000e+01,\n",
       "        1.67961600e+02],\n",
       "       [1.00000000e+00, 4.72000000e+00, 2.22784000e+01, 1.05154048e+02,\n",
       "        4.96327107e+02],\n",
       "       [1.00000000e+00, 3.91000000e+00, 1.52881000e+01, 5.97764710e+01,\n",
       "        2.33726002e+02],\n",
       "       [1.00000000e+00, 6.13000000e+00, 3.75769000e+01, 2.30346397e+02,\n",
       "        1.41202341e+03],\n",
       "       [1.00000000e+00, 8.05000000e+00, 6.48025000e+01, 5.21660125e+02,\n",
       "        4.19936401e+03],\n",
       "       [1.00000000e+00, 5.55000000e+00, 3.08025000e+01, 1.70953875e+02,\n",
       "        9.48794006e+02],\n",
       "       [1.00000000e+00, 7.33000000e+00, 5.37289000e+01, 3.93832837e+02,\n",
       "        2.88679470e+03],\n",
       "       [1.00000000e+00, 7.59000000e+00, 5.76081000e+01, 4.37245479e+02,\n",
       "        3.31869319e+03]])"
      ]
     },
     "execution_count": 7,
     "metadata": {},
     "output_type": "execute_result"
    }
   ],
   "source": [
    "train"
   ]
  },
  {
   "cell_type": "code",
   "execution_count": 8,
   "metadata": {},
   "outputs": [],
   "source": [
    "y_test=np.array([0.89,1.79,-0.15,1.63,1.27,0.91,0.88,1.41,1.69,-0.46])\n",
    "y_train=np.array([0.81,1.22,0.43,-0.51,-0.13,0.44,1.49,0.31,1.59,1.61])"
   ]
  },
  {
   "cell_type": "code",
   "execution_count": 9,
   "metadata": {},
   "outputs": [
    {
     "data": {
      "text/plain": [
       "array([-1.90765685,  4.81138824, -2.29185417,  0.38599269, -0.02100545])"
      ]
     },
     "execution_count": 9,
     "metadata": {},
     "output_type": "execute_result"
    }
   ],
   "source": [
    "para_4=np.linalg.inv(train.T.dot(train)).dot(train.T).dot(y_train)\n",
    "para_4"
   ]
  },
  {
   "cell_type": "markdown",
   "metadata": {},
   "source": [
    "Online solutions"
   ]
  },
  {
   "cell_type": "code",
   "execution_count": 14,
   "metadata": {},
   "outputs": [
    {
     "data": {
      "text/plain": [
       "array([5.51, 1.25, 3.6 , 4.72, 3.91, 6.13, 8.05, 5.55, 7.33, 7.59])"
      ]
     },
     "execution_count": 14,
     "metadata": {},
     "output_type": "execute_result"
    }
   ],
   "source": [
    "x=df_2[df_2.columns[1]]\n",
    "x=x.to_numpy()\n",
    "x"
   ]
  },
  {
   "cell_type": "code",
   "execution_count": 24,
   "metadata": {},
   "outputs": [
    {
     "data": {
      "image/png": "[encoded data removed]",
      "text/plain": [
       "<Figure size 432x288 with 1 Axes>"
      ]
     },
     "metadata": {
      "needs_background": "light"
     },
     "output_type": "display_data"
    },
    {
     "data": {
      "text/plain": [
       "poly1d([-0.02100545,  0.38599269, -2.29185413,  4.81138814, -1.90765678])"
      ]
     },
     "execution_count": 24,
     "metadata": {},
     "output_type": "execute_result"
    }
   ],
   "source": [
    "model=np.poly1d(np.polyfit(x,y_train,4))\n",
    "line=np.linspace(0,10,100)\n",
    "plt.scatter(x,y_train)\n",
    "plt.plot(line,model(line))\n",
    "plt.show()\n",
    "model"
   ]
  },
  {
   "cell_type": "code",
   "execution_count": 20,
   "metadata": {},
   "outputs": [
    {
     "data": {
      "text/plain": [
       "array([5.84, 0.61, 4.23, 6.5 , 0.89, 3.75, 5.73, 3.1 , 6.47, 4.59])"
      ]
     },
     "execution_count": 20,
     "metadata": {},
     "output_type": "execute_result"
    }
   ],
   "source": [
    "x_test=df[df.columns[1]]\n",
    "x_test=x_test.to_numpy()\n",
    "x_test"
   ]
  },
  {
   "cell_type": "code",
   "execution_count": 25,
   "metadata": {},
   "outputs": [
    {
     "data": {
      "image/png": "[encoded data removed]",
      "text/plain": [
       "<Figure size 432x288 with 1 Axes>"
      ]
     },
     "metadata": {
      "needs_background": "light"
     },
     "output_type": "display_data"
    }
   ],
   "source": [
    "plt.scatter(x_test, y_test)\n",
    "plt.plot(line,model(line))\n",
    "plt.show()"
   ]
  },
  {
   "cell_type": "code",
   "execution_count": 26,
   "metadata": {},
   "outputs": [],
   "source": [
    "import statsmodels.api as sm"
   ]
  },
  {
   "cell_type": "code",
   "execution_count": 28,
   "metadata": {},
   "outputs": [],
   "source": [
    "from sklearn.linear_model import LinearRegression"
   ]
  },
  {
   "cell_type": "code",
   "execution_count": 30,
   "metadata": {},
   "outputs": [
    {
     "name": "stdout",
     "output_type": "stream",
     "text": [
      "                            OLS Regression Results                            \n",
      "==============================================================================\n",
      "Dep. Variable:                      y   R-squared:                       0.864\n",
      "Model:                            OLS   Adj. R-squared:                  0.756\n",
      "Method:                 Least Squares   F-statistic:                     7.970\n",
      "Date:                Sun, 02 Oct 2022   Prob (F-statistic):             0.0214\n",
      "Time:                        02:07:18   Log-Likelihood:               -0.69805\n",
      "No. Observations:                  10   AIC:                             11.40\n",
      "Df Residuals:                       5   BIC:                             12.91\n",
      "Df Model:                           4                                         \n",
      "Covariance Type:            nonrobust                                         \n",
      "==============================================================================\n",
      "                 coef    std err          t      P>|t|      [0.025      0.975]\n",
      "------------------------------------------------------------------------------\n",
      "const         -1.9077      3.500     -0.545      0.609     -10.905       7.090\n",
      "x1             4.8114      4.516      1.065      0.335      -6.798      16.421\n",
      "x2            -2.2919      1.746     -1.313      0.246      -6.780       2.197\n",
      "x3             0.3860      0.265      1.458      0.205      -0.295       1.067\n",
      "x4            -0.0210      0.014     -1.518      0.189      -0.057       0.015\n",
      "==============================================================================\n",
      "Omnibus:                        2.731   Durbin-Watson:                   1.509\n",
      "Prob(Omnibus):                  0.255   Jarque-Bera (JB):                0.714\n",
      "Skew:                           0.630   Prob(JB):                        0.700\n",
      "Kurtosis:                       3.357   Cond. No.                     1.05e+05\n",
      "==============================================================================\n",
      "\n",
      "Notes:\n",
      "[1] Standard Errors assume that the covariance matrix of the errors is correctly specified.\n",
      "[2] The condition number is large, 1.05e+05. This might indicate that there are\n",
      "strong multicollinearity or other numerical problems.\n",
      "0.6732207778948702\n"
     ]
    },
    {
     "name": "stderr",
     "output_type": "stream",
     "text": [
      "c:\\Users\\Jason Wong\\AppData\\Local\\Programs\\Python\\Python39\\lib\\site-packages\\scipy\\stats\\stats.py:1541: UserWarning: kurtosistest only valid for n>=20 ... continuing anyway, n=10\n",
      "  warnings.warn(\"kurtosistest only valid for n>=20 ... continuing \"\n"
     ]
    }
   ],
   "source": [
    "sm_x=sm.add_constant(train)\n",
    "model=sm.OLS(y_train,sm_x).fit()\n",
    "print(model.summary())\n",
    "print(model.ssr)"
   ]
  },
  {
   "cell_type": "code",
   "execution_count": 31,
   "metadata": {},
   "outputs": [
    {
     "data": {
      "text/plain": [
       "array([ 0.        ,  0.1010101 ,  0.2020202 ,  0.3030303 ,  0.4040404 ,\n",
       "        0.50505051,  0.60606061,  0.70707071,  0.80808081,  0.90909091,\n",
       "        1.01010101,  1.11111111,  1.21212121,  1.31313131,  1.41414141,\n",
       "        1.51515152,  1.61616162,  1.71717172,  1.81818182,  1.91919192,\n",
       "        2.02020202,  2.12121212,  2.22222222,  2.32323232,  2.42424242,\n",
       "        2.52525253,  2.62626263,  2.72727273,  2.82828283,  2.92929293,\n",
       "        3.03030303,  3.13131313,  3.23232323,  3.33333333,  3.43434343,\n",
       "        3.53535354,  3.63636364,  3.73737374,  3.83838384,  3.93939394,\n",
       "        4.04040404,  4.14141414,  4.24242424,  4.34343434,  4.44444444,\n",
       "        4.54545455,  4.64646465,  4.74747475,  4.84848485,  4.94949495,\n",
       "        5.05050505,  5.15151515,  5.25252525,  5.35353535,  5.45454545,\n",
       "        5.55555556,  5.65656566,  5.75757576,  5.85858586,  5.95959596,\n",
       "        6.06060606,  6.16161616,  6.26262626,  6.36363636,  6.46464646,\n",
       "        6.56565657,  6.66666667,  6.76767677,  6.86868687,  6.96969697,\n",
       "        7.07070707,  7.17171717,  7.27272727,  7.37373737,  7.47474747,\n",
       "        7.57575758,  7.67676768,  7.77777778,  7.87878788,  7.97979798,\n",
       "        8.08080808,  8.18181818,  8.28282828,  8.38383838,  8.48484848,\n",
       "        8.58585859,  8.68686869,  8.78787879,  8.88888889,  8.98989899,\n",
       "        9.09090909,  9.19191919,  9.29292929,  9.39393939,  9.49494949,\n",
       "        9.5959596 ,  9.6969697 ,  9.7979798 ,  9.8989899 , 10.        ])"
      ]
     },
     "execution_count": 31,
     "metadata": {},
     "output_type": "execute_result"
    }
   ],
   "source": [
    "line"
   ]
  },
  {
   "cell_type": "code",
   "execution_count": 32,
   "metadata": {},
   "outputs": [],
   "source": [
    "from sklearn.preprocessing import PolynomialFeatures"
   ]
  },
  {
   "cell_type": "code",
   "execution_count": 34,
   "metadata": {},
   "outputs": [
    {
     "data": {
      "text/plain": [
       "array([-1.82374984,  3.43236125, -1.64233317, 21.79478044,  2.99462551,\n",
       "        0.41660469, -1.14614195, -3.72984196, 18.97122156, -1.35524157])"
      ]
     },
     "execution_count": 34,
     "metadata": {},
     "output_type": "execute_result"
    }
   ],
   "source": [
    "poly=PolynomialFeatures(degree=4)\n",
    "x_sk = poly.fit_transform(train)\n",
    "x_test_sk=poly.fit_transform(test)\n",
    "model=LinearRegression()\n",
    "model.fit(x_sk,y_train)\n",
    "y_predict=model.predict(x_test_sk)\n",
    "y_predict"
   ]
  },
  {
   "cell_type": "code",
   "execution_count": 38,
   "metadata": {},
   "outputs": [
    {
     "data": {
      "text/plain": [
       "752.0902915719191"
      ]
     },
     "execution_count": 38,
     "metadata": {},
     "output_type": "execute_result"
    }
   ],
   "source": [
    "df_final=pd.DataFrame({'actual':y_test, 'predicted':y_predict})\n",
    "np.sum(np.square(df_final['predicted'] - df_final['actual']))"
   ]
  },
  {
   "cell_type": "code",
   "execution_count": null,
   "metadata": {},
   "outputs": [],
   "source": []
  }
 ],
 "metadata": {
  "kernelspec": {
   "display_name": "Python 3.9.7 64-bit",
   "language": "python",
   "name": "python3"
  },
  "language_info": {
   "codemirror_mode": {
    "name": "ipython",
    "version": 3
   },
   "file_extension": ".py",
   "mimetype": "text/x-python",
   "name": "python",
   "nbconvert_exporter": "python",
   "pygments_lexer": "ipython3",
   "version": "3.9.7"
  },
  "orig_nbformat": 4,
  "vscode": {
   "interpreter": {
    "hash": "5b504ef4dd476d902adde0dd6a370889f5aa6341c1210a26a57a3a565c0f5fa3"
   }
  }
 },
 "nbformat": 4,
 "nbformat_minor": 2
}
